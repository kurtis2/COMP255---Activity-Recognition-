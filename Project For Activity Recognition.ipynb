{
 "cells": [
  {
   "cell_type": "markdown",
   "metadata": {},
   "source": [
    "# Comp255 Assignment 1"
   ]
  },
  {
   "cell_type": "code",
   "execution_count": 1,
   "metadata": {},
   "outputs": [],
   "source": [
    "#import packages\n",
    "\n",
    "import numpy as np \n",
    "import pandas as pd \n",
    "from scipy import signal\n",
    "import matplotlib.pyplot as plt \n",
    "import math\n",
    "from sklearn import preprocessing\n",
    "from sklearn.neighbors import KNeighborsClassifier\n",
    "from sklearn.metrics import make_scorer, accuracy_score, confusion_matrix\n",
    "from sklearn.svm import SVC\n",
    "from sklearn.model_selection import GridSearchCV"
   ]
  },
  {
   "cell_type": "markdown",
   "metadata": {},
   "source": [
    "## Data Visualisation - task 1 "
   ]
  },
  {
   "cell_type": "code",
   "execution_count": null,
   "metadata": {},
   "outputs": [],
   "source": [
    "# read and visualise the raw data \n",
    "\n",
    "def data_visulization():\n",
    "    # read dataset file\n",
    "    df = pd.read_csv('dataset_1.txt', sep=',', header=None)\n",
    "    for i in range (1,14):\n",
    "        df_activity = df[df[24] == i].values\n",
    "        # Plot the accelerometer data\n",
    "        print(\"Accelerometer for activity\" + str(i))\n",
    "        plt.plot(df_activity[500:1500, 0:3])\n",
    "        plt.show()\n",
    "        #plot the gyroscope data\n",
    "        print(\"Gyroscope for activity\" + str(i))\n",
    "        plt.plot(df_activity[500:1500, 3:6])\n",
    "        plt.show()"
   ]
  },
  {
   "cell_type": "code",
   "execution_count": null,
   "metadata": {},
   "outputs": [],
   "source": [
    "#function call\n",
    "data_visulization()"
   ]
  },
  {
   "cell_type": "code",
   "execution_count": null,
   "metadata": {},
   "outputs": [],
   "source": [
    "# apply sensoring and filtering a visulise the same data \n",
    "\n",
    "def noise_removing():\n",
    "    # Butterworth low-pass filter. \n",
    "    b, a = signal.butter(4, 0.04, 'low', analog=False)\n",
    "    df = pd.read_csv('dataset_1.txt', sep=',', header=None)\n",
    "    for i in range(1,14):\n",
    "        df_activity = df[df[24] == i].values\n",
    "    \n",
    "        for j in range(3):\n",
    "            df_activity[:,j] = signal.lfilter(b, a, df_activity[:, j])\n",
    "        # Plot the accelerometer data\n",
    "        print(\"Accelerometer for activity\" + str (i))\n",
    "        plt.plot(df_activity[500:1500, 0:3])\n",
    "        plt.show()\n",
    "\n",
    "        for j in range(3,6):\n",
    "            df_activity[:,j] = signal.lfilter(b, a, df_activity[:, j])\n",
    "        #plot the gyroscope data\n",
    "        print(\"Gyroscope for activity\" + str(i))\n",
    "        plt.plot(df_activity[500:1500, 3:6])\n",
    "        plt.show()\n"
   ]
  },
  {
   "cell_type": "code",
   "execution_count": null,
   "metadata": {},
   "outputs": [],
   "source": [
    "noise_removing()"
   ]
  }
 ],
 "metadata": {
  "kernelspec": {
   "display_name": "Python 3",
   "language": "python",
   "name": "python3"
  },
  "language_info": {
   "codemirror_mode": {
    "name": "ipython",
    "version": 3
   },
   "file_extension": ".py",
   "mimetype": "text/x-python",
   "name": "python",
   "nbconvert_exporter": "python",
   "pygments_lexer": "ipython3",
   "version": "3.7.3"
  }
 },
 "nbformat": 4,
 "nbformat_minor": 2
}
